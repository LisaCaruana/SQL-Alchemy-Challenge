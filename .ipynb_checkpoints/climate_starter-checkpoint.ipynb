{
 "cells": [
  {
   "cell_type": "code",
   "execution_count": 104,
   "metadata": {},
   "outputs": [],
   "source": [
    "%matplotlib inline\n",
    "from matplotlib import style\n",
    "style.use('fivethirtyeight')\n",
    "import matplotlib.pyplot as plt"
   ]
  },
  {
   "cell_type": "code",
   "execution_count": 105,
   "metadata": {},
   "outputs": [],
   "source": [
    "import numpy as np\n",
    "import pandas as pd"
   ]
  },
  {
   "cell_type": "code",
   "execution_count": 106,
   "metadata": {},
   "outputs": [],
   "source": [
    "import datetime as dt"
   ]
  },
  {
   "cell_type": "markdown",
   "metadata": {},
   "source": [
    "# Reflect Tables into SQLAlchemy ORM"
   ]
  },
  {
   "cell_type": "code",
   "execution_count": 107,
   "metadata": {},
   "outputs": [],
   "source": [
    "# Python SQL toolkit and Object Relational Mapper\n",
    "import sqlalchemy\n",
    "from sqlalchemy.ext.automap import automap_base\n",
    "from sqlalchemy.orm import Session\n",
    "from sqlalchemy import create_engine, func, desc"
   ]
  },
  {
   "cell_type": "code",
   "execution_count": 108,
   "metadata": {},
   "outputs": [],
   "source": [
    "engine = create_engine(\"sqlite:///Resources/hawaii.sqlite\")"
   ]
  },
  {
   "cell_type": "code",
   "execution_count": 109,
   "metadata": {},
   "outputs": [],
   "source": [
    "# reflect an existing database into a new model\n",
    "#hawaii_data=engine.execute(\"select * from hawaii_measurements.csv\")\n",
    "# reflect the tables"
   ]
  },
  {
   "cell_type": "code",
   "execution_count": 110,
   "metadata": {},
   "outputs": [],
   "source": [
    "Base = automap_base()\n",
    "Base.prepare(engine, reflect=True)"
   ]
  },
  {
   "cell_type": "code",
   "execution_count": 111,
   "metadata": {},
   "outputs": [
    {
     "data": {
      "text/plain": [
       "['measurement', 'station']"
      ]
     },
     "execution_count": 111,
     "metadata": {},
     "output_type": "execute_result"
    }
   ],
   "source": [
    "# We can view all of the classes that automap found\n",
    "Base.classes.keys()\n"
   ]
  },
  {
   "cell_type": "code",
   "execution_count": 112,
   "metadata": {},
   "outputs": [],
   "source": [
    "# Save references to each table\n",
    "measurements = Base.classes.measurement\n",
    "stations = Base.classes.station"
   ]
  },
  {
   "cell_type": "code",
   "execution_count": 113,
   "metadata": {},
   "outputs": [],
   "source": [
    "# Create our session (link) from Python to the DB\n",
    "session = Session(engine)"
   ]
  },
  {
   "cell_type": "markdown",
   "metadata": {},
   "source": [
    "# Exploratory Climate Analysis"
   ]
  },
  {
   "cell_type": "code",
   "execution_count": 114,
   "metadata": {},
   "outputs": [
    {
     "data": {
      "text/plain": [
       "Text(0, 0.5, 'Precipitation (Inches)')"
      ]
     },
     "execution_count": 114,
     "metadata": {},
     "output_type": "execute_result"
    },
    {
     "data": {
      "image/png": "[encoded data removed]",
      "text/plain": [
       "<Figure size 432x288 with 1 Axes>"
      ]
     },
     "metadata": {},
     "output_type": "display_data"
    }
   ],
   "source": [
    "# Design a query to retrieve the last 12 months of precipitation data and plot the results\n",
    "\n",
    "# Calculate the date 1 year ago from the last data point in the database\n",
    "last_date=session.query(measurements.date).order_by(measurements.date.desc()).first()\n",
    "#print(last_date) #2017-8-23\n",
    "query_date = dt.date(2017, 8, 23) - dt.timedelta(days=365)\n",
    "#print(\"Query Date: \", query_date)\n",
    "\n",
    "# Perform a query to retrieve the data and precipitation scores\n",
    "yr_prcp= session.query(measurements.date, measurements.prcp).\\\n",
    "    filter(measurements.date > query_date).\\\n",
    "    order_by(measurements.date).all()\n",
    "#print(yr_prcp)\n",
    "\n",
    "# Save the query results as a Pandas DataFrame and set the index to the date column\n",
    "prcp_df=pd.DataFrame(yr_prcp)\n",
    "prcp_df=prcp_df.set_index('date')\n",
    "#prcp_df\n",
    "\n",
    "# Sort the dataframe by date\n",
    "prcp_df= prcp_df.sort_values(['date'], ascending= False)\n",
    "\n",
    "# Use Pandas Plotting with Matplotlib to plot the data\n",
    "prcp_df.plot()\n",
    "plt.xticks(rotation=90)\n",
    "plt.xlabel('Date')\n",
    "plt.ylabel('Precipitation (Inches)')"
   ]
  },
  {
   "cell_type": "code",
   "execution_count": 115,
   "metadata": {},
   "outputs": [
    {
     "data": {
      "text/plain": [
       "{'2016-08-24': 1.45,\n",
       " '2016-08-25': 0.11,\n",
       " '2016-08-26': 0.01,\n",
       " '2016-08-27': None,\n",
       " '2016-08-28': 2.07,\n",
       " '2016-08-29': 0.9,\n",
       " '2016-08-30': 0.05,\n",
       " '2016-08-31': 2.46,\n",
       " '2016-09-01': 0.01,\n",
       " '2016-09-02': 0.03,\n",
       " '2016-09-03': 1.0,\n",
       " '2016-09-04': 0.44,\n",
       " '2016-09-05': 0.18,\n",
       " '2016-09-06': 1.0,\n",
       " '2016-09-07': 1.35,\n",
       " '2016-09-08': 0.15,\n",
       " '2016-09-09': 0.35,\n",
       " '2016-09-10': 1.16,\n",
       " '2016-09-11': 0.6,\n",
       " '2016-09-12': 1.04,\n",
       " '2016-09-13': 1.2,\n",
       " '2016-09-14': 6.7,\n",
       " '2016-09-15': 3.35,\n",
       " '2016-09-16': 0.61,\n",
       " '2016-09-17': 0.23,\n",
       " '2016-09-18': 0.42,\n",
       " '2016-09-19': 0.25,\n",
       " '2016-09-20': 0.43,\n",
       " '2016-09-21': 1.02,\n",
       " '2016-09-22': 0.75,\n",
       " '2016-09-23': 0.33,\n",
       " '2016-09-24': 0.27,\n",
       " '2016-09-25': 0.04,\n",
       " '2016-09-26': 1.02,\n",
       " '2016-09-27': 1.0,\n",
       " '2016-09-28': 0.05,\n",
       " '2016-09-29': 1.49,\n",
       " '2016-09-30': 0.38,\n",
       " '2016-10-01': 1.02,\n",
       " '2016-10-02': 0.61,\n",
       " '2016-10-03': 0.46,\n",
       " '2016-10-04': 3.46,\n",
       " '2016-10-05': 0.81,\n",
       " '2016-10-06': 0.04,\n",
       " '2016-10-07': 0.01,\n",
       " '2016-10-08': 0.04,\n",
       " '2016-10-09': 0.0,\n",
       " '2016-10-10': 0.0,\n",
       " '2016-10-11': 0.35,\n",
       " '2016-10-12': 0.02,\n",
       " '2016-10-13': 0.06,\n",
       " '2016-10-14': 0.0,\n",
       " '2016-10-15': 0.33,\n",
       " '2016-10-16': 0.0,\n",
       " '2016-10-17': 0.38,\n",
       " '2016-10-18': 0.48,\n",
       " '2016-10-19': 0.0,\n",
       " '2016-10-20': 1.0,\n",
       " '2016-10-21': 0.09,\n",
       " '2016-10-22': 1.37,\n",
       " '2016-10-23': 0.24,\n",
       " '2016-10-24': 0.7,\n",
       " '2016-10-25': 0.4,\n",
       " '2016-10-26': 0.0,\n",
       " '2016-10-27': 1.25,\n",
       " '2016-10-28': 0.37,\n",
       " '2016-10-29': 0.25,\n",
       " '2016-10-30': 0.95,\n",
       " '2016-10-31': 1.35,\n",
       " '2016-11-01': 0.09,\n",
       " '2016-11-02': 0.04,\n",
       " '2016-11-03': 0.02,\n",
       " '2016-11-04': 0.06,\n",
       " '2016-11-05': 0.38,\n",
       " '2016-11-06': 0.05,\n",
       " '2016-11-07': 0.05,\n",
       " '2016-11-08': 0.53,\n",
       " '2016-11-09': 0.04,\n",
       " '2016-11-10': 0.01,\n",
       " '2016-11-11': 0.0,\n",
       " '2016-11-12': 0.0,\n",
       " '2016-11-13': 0.0,\n",
       " '2016-11-14': 0.02,\n",
       " '2016-11-15': 0.05,\n",
       " '2016-11-16': 0.91,\n",
       " '2016-11-17': 0.02,\n",
       " '2016-11-18': 0.0,\n",
       " '2016-11-19': 0.11,\n",
       " '2016-11-20': None,\n",
       " '2016-11-21': 2.87,\n",
       " '2016-11-22': 2.11,\n",
       " '2016-11-23': 0.22,\n",
       " '2016-11-24': 0.72,\n",
       " '2016-11-25': 1.03,\n",
       " '2016-11-26': 0.3,\n",
       " '2016-11-27': 0.29,\n",
       " '2016-11-28': 0.69,\n",
       " '2016-11-29': 0.2,\n",
       " '2016-11-30': 0.79,\n",
       " '2016-12-01': 0.72,\n",
       " '2016-12-02': 1.27,\n",
       " '2016-12-03': 1.62,\n",
       " '2016-12-04': 0.31,\n",
       " '2016-12-05': 1.6,\n",
       " '2016-12-06': 0.0,\n",
       " '2016-12-07': 0.02,\n",
       " '2016-12-08': 0.03,\n",
       " '2016-12-09': 0.42,\n",
       " '2016-12-10': 0.04,\n",
       " '2016-12-11': 0.13,\n",
       " '2016-12-12': 0.01,\n",
       " '2016-12-13': 0.09,\n",
       " '2016-12-14': 0.33,\n",
       " '2016-12-15': 0.03,\n",
       " '2016-12-16': 0.0,\n",
       " '2016-12-17': 0.07,\n",
       " '2016-12-18': None,\n",
       " '2016-12-19': 0.15,\n",
       " '2016-12-20': 0.0,\n",
       " '2016-12-21': 0.55,\n",
       " '2016-12-22': 1.24,\n",
       " '2016-12-23': 0.83,\n",
       " '2016-12-24': 1.08,\n",
       " '2016-12-25': 0.38,\n",
       " '2016-12-26': 1.48,\n",
       " '2016-12-27': 0.14,\n",
       " '2016-12-28': 0.14,\n",
       " '2016-12-29': 1.03,\n",
       " '2016-12-30': 2.37,\n",
       " '2016-12-31': 0.9,\n",
       " '2017-01-01': 0.03,\n",
       " '2017-01-02': 0.0,\n",
       " '2017-01-03': 0.0,\n",
       " '2017-01-04': 0.0,\n",
       " '2017-01-05': 0.47,\n",
       " '2017-01-06': 0.1,\n",
       " '2017-01-07': 0.0,\n",
       " '2017-01-08': 0.03,\n",
       " '2017-01-09': 0.0,\n",
       " '2017-01-10': 0.0,\n",
       " '2017-01-11': 0.0,\n",
       " '2017-01-12': 0.0,\n",
       " '2017-01-13': 0.0,\n",
       " '2017-01-14': 0.0,\n",
       " '2017-01-15': 0.01,\n",
       " '2017-01-16': 0.0,\n",
       " '2017-01-17': 0.0,\n",
       " '2017-01-18': 0.07,\n",
       " '2017-01-19': 0.0,\n",
       " '2017-01-20': 0.0,\n",
       " '2017-01-21': 0.08,\n",
       " '2017-01-22': 0.72,\n",
       " '2017-01-23': 0.85,\n",
       " '2017-01-24': 1.85,\n",
       " '2017-01-25': 2.64,\n",
       " '2017-01-26': 0.1,\n",
       " '2017-01-27': 0.03,\n",
       " '2017-01-28': 0.0,\n",
       " '2017-01-29': 0.55,\n",
       " '2017-01-30': 0.0,\n",
       " '2017-01-31': 0.0,\n",
       " '2017-02-01': 0.0,\n",
       " '2017-02-02': 0.0,\n",
       " '2017-02-03': 0.0,\n",
       " '2017-02-04': None,\n",
       " '2017-02-05': 0.0,\n",
       " '2017-02-06': 0.0,\n",
       " '2017-02-07': 1.79,\n",
       " '2017-02-08': 0.0,\n",
       " '2017-02-09': 0.0,\n",
       " '2017-02-10': 0.0,\n",
       " '2017-02-11': 0.73,\n",
       " '2017-02-12': 1.83,\n",
       " '2017-02-13': 0.0,\n",
       " '2017-02-14': 0.01,\n",
       " '2017-02-15': 0.07,\n",
       " '2017-02-16': 0.13,\n",
       " '2017-02-17': 0.13,\n",
       " '2017-02-18': None,\n",
       " '2017-02-19': 0.1,\n",
       " '2017-02-20': 0.0,\n",
       " '2017-02-21': 0.07,\n",
       " '2017-02-22': 0.32,\n",
       " '2017-02-23': 0.0,\n",
       " '2017-02-24': 0.0,\n",
       " '2017-02-25': 0.12,\n",
       " '2017-02-26': 0.0,\n",
       " '2017-02-27': 0.0,\n",
       " '2017-02-28': 0.58,\n",
       " '2017-03-01': 2.0,\n",
       " '2017-03-02': 0.58,\n",
       " '2017-03-03': 0.56,\n",
       " '2017-03-04': 0.0,\n",
       " '2017-03-05': 0.35,\n",
       " '2017-03-06': 0.0,\n",
       " '2017-03-07': 0.0,\n",
       " '2017-03-08': 0.0,\n",
       " '2017-03-09': 0.01,\n",
       " '2017-03-10': 0.0,\n",
       " '2017-03-11': 0.0,\n",
       " '2017-03-12': 0.0,\n",
       " '2017-03-13': None,\n",
       " '2017-03-14': 0.0,\n",
       " '2017-03-15': 0.0,\n",
       " '2017-03-16': 0.0,\n",
       " '2017-03-17': 0.12,\n",
       " '2017-03-18': None,\n",
       " '2017-03-19': 0.0,\n",
       " '2017-03-20': 0.0,\n",
       " '2017-03-21': 0.0,\n",
       " '2017-03-22': 0.0,\n",
       " '2017-03-23': 0.03,\n",
       " '2017-03-24': 0.17,\n",
       " '2017-03-25': 0.48,\n",
       " '2017-03-26': 0.0,\n",
       " '2017-03-27': 0.0,\n",
       " '2017-03-28': 0.68,\n",
       " '2017-03-29': 0.07,\n",
       " '2017-03-30': 0.04,\n",
       " '2017-03-31': None,\n",
       " '2017-04-01': 0.2,\n",
       " '2017-04-02': 0.0,\n",
       " '2017-04-03': 0.23,\n",
       " '2017-04-04': 0.02,\n",
       " '2017-04-05': 0.45,\n",
       " '2017-04-06': 0.0,\n",
       " '2017-04-07': 0.0,\n",
       " '2017-04-08': None,\n",
       " '2017-04-09': 0.0,\n",
       " '2017-04-10': 0.0,\n",
       " '2017-04-11': 0.25,\n",
       " '2017-04-12': 0.65,\n",
       " '2017-04-13': 0.23,\n",
       " '2017-04-14': 2.82,\n",
       " '2017-04-15': 0.9,\n",
       " '2017-04-16': 0.11,\n",
       " '2017-04-17': 1.3,\n",
       " '2017-04-18': 0.98,\n",
       " '2017-04-19': 0.14,\n",
       " '2017-04-20': 0.0,\n",
       " '2017-04-21': 1.84,\n",
       " '2017-04-22': 1.35,\n",
       " '2017-04-23': 0.35,\n",
       " '2017-04-24': 0.05,\n",
       " '2017-04-25': 0.0,\n",
       " '2017-04-26': 0.22,\n",
       " '2017-04-27': 0.11,\n",
       " '2017-04-28': 0.79,\n",
       " '2017-04-29': 0.0,\n",
       " '2017-04-30': 0.8,\n",
       " '2017-05-01': 0.25,\n",
       " '2017-05-02': 0.0,\n",
       " '2017-05-03': 0.01,\n",
       " '2017-05-04': None,\n",
       " '2017-05-05': 0.1,\n",
       " '2017-05-06': 0.0,\n",
       " '2017-05-07': 0.03,\n",
       " '2017-05-08': 1.11,\n",
       " '2017-05-09': 0.23,\n",
       " '2017-05-10': 0.55,\n",
       " '2017-05-11': 0.44,\n",
       " '2017-05-12': 0.1,\n",
       " '2017-05-13': 0.1,\n",
       " '2017-05-14': 1.0,\n",
       " '2017-05-15': 0.6,\n",
       " '2017-05-16': 0.3,\n",
       " '2017-05-17': 0.06,\n",
       " '2017-05-18': 0.0,\n",
       " '2017-05-19': 0.01,\n",
       " '2017-05-20': None,\n",
       " '2017-05-21': 0.0,\n",
       " '2017-05-22': 0.3,\n",
       " '2017-05-23': 0.44,\n",
       " '2017-05-24': 2.17,\n",
       " '2017-05-25': 0.88,\n",
       " '2017-05-26': 0.0,\n",
       " '2017-05-27': 0.5,\n",
       " '2017-05-28': 0.0,\n",
       " '2017-05-29': 0.4,\n",
       " '2017-05-30': None,\n",
       " '2017-05-31': 0.25,\n",
       " '2017-06-01': 0.01,\n",
       " '2017-06-02': 0.09,\n",
       " '2017-06-03': None,\n",
       " '2017-06-04': 0.82,\n",
       " '2017-06-05': 0.01,\n",
       " '2017-06-06': 0.0,\n",
       " '2017-06-07': 0.01,\n",
       " '2017-06-08': 0.0,\n",
       " '2017-06-09': 0.02,\n",
       " '2017-06-10': None,\n",
       " '2017-06-11': 0.7,\n",
       " '2017-06-12': 0.81,\n",
       " '2017-06-13': 0.65,\n",
       " '2017-06-14': 0.81,\n",
       " '2017-06-15': 1.69,\n",
       " '2017-06-16': 0.1,\n",
       " '2017-06-17': 0.1,\n",
       " '2017-06-18': 0.7,\n",
       " '2017-06-19': 0.4,\n",
       " '2017-06-20': 0.31,\n",
       " '2017-06-21': 0.3,\n",
       " '2017-06-22': 0.28,\n",
       " '2017-06-23': 0.5,\n",
       " '2017-06-24': 0.22,\n",
       " '2017-06-25': 0.5,\n",
       " '2017-06-26': 0.02,\n",
       " '2017-06-27': 0.1,\n",
       " '2017-06-28': 0.02,\n",
       " '2017-06-29': 0.04,\n",
       " '2017-06-30': 0.2,\n",
       " '2017-07-01': 0.1,\n",
       " '2017-07-02': 0.5,\n",
       " '2017-07-03': 0.4,\n",
       " '2017-07-04': 0.0,\n",
       " '2017-07-05': 0.0,\n",
       " '2017-07-06': 0.02,\n",
       " '2017-07-07': 0.3,\n",
       " '2017-07-08': 0.02,\n",
       " '2017-07-09': 0.0,\n",
       " '2017-07-10': 0.02,\n",
       " '2017-07-11': 0.0,\n",
       " '2017-07-12': 0.05,\n",
       " '2017-07-13': 0.68,\n",
       " '2017-07-14': 0.68,\n",
       " '2017-07-15': 0.1,\n",
       " '2017-07-16': 0.5,\n",
       " '2017-07-17': 0.39,\n",
       " '2017-07-18': 2.4,\n",
       " '2017-07-19': 0.27,\n",
       " '2017-07-20': 0.7,\n",
       " '2017-07-21': 0.1,\n",
       " '2017-07-22': 4.0,\n",
       " '2017-07-23': 0.8,\n",
       " '2017-07-24': 0.84,\n",
       " '2017-07-25': 0.3,\n",
       " '2017-07-26': 0.3,\n",
       " '2017-07-27': 0.0,\n",
       " '2017-07-28': 0.4,\n",
       " '2017-07-29': 0.3,\n",
       " '2017-07-30': 0.3,\n",
       " '2017-07-31': 0.0,\n",
       " '2017-08-01': None,\n",
       " '2017-08-02': 0.25,\n",
       " '2017-08-03': 0.06,\n",
       " '2017-08-04': 0.0,\n",
       " '2017-08-05': None,\n",
       " '2017-08-06': None,\n",
       " '2017-08-07': 0.05,\n",
       " '2017-08-08': 0.34,\n",
       " '2017-08-09': 0.15,\n",
       " '2017-08-10': 0.07,\n",
       " '2017-08-11': None,\n",
       " '2017-08-12': 0.14,\n",
       " '2017-08-13': None,\n",
       " '2017-08-14': 0.22,\n",
       " '2017-08-15': 0.42,\n",
       " '2017-08-16': 0.42,\n",
       " '2017-08-17': 0.13,\n",
       " '2017-08-18': None,\n",
       " '2017-08-19': 0.09,\n",
       " '2017-08-20': None,\n",
       " '2017-08-21': 0.56,\n",
       " '2017-08-22': 0.5,\n",
       " '2017-08-23': 0.45}"
      ]
     },
     "execution_count": 115,
     "metadata": {},
     "output_type": "execute_result"
    }
   ],
   "source": [
    "dict_convert=dict(yr_prcp)\n",
    "dict_convert"
   ]
  },
  {
   "cell_type": "code",
   "execution_count": 116,
   "metadata": {},
   "outputs": [
    {
     "data": {
      "text/html": [
       "<div>\n",
       "<style scoped>\n",
       "    .dataframe tbody tr th:only-of-type {\n",
       "        vertical-align: middle;\n",
       "    }\n",
       "\n",
       "    .dataframe tbody tr th {\n",
       "        vertical-align: top;\n",
       "    }\n",
       "\n",
       "    .dataframe thead th {\n",
       "        text-align: right;\n",
       "    }\n",
       "</style>\n",
       "<table border=\"1\" class=\"dataframe\">\n",
       "  <thead>\n",
       "    <tr style=\"text-align: right;\">\n",
       "      <th></th>\n",
       "      <th>prcp</th>\n",
       "    </tr>\n",
       "  </thead>\n",
       "  <tbody>\n",
       "    <tr>\n",
       "      <th>count</th>\n",
       "      <td>2015.000000</td>\n",
       "    </tr>\n",
       "    <tr>\n",
       "      <th>mean</th>\n",
       "      <td>0.176462</td>\n",
       "    </tr>\n",
       "    <tr>\n",
       "      <th>std</th>\n",
       "      <td>0.460288</td>\n",
       "    </tr>\n",
       "    <tr>\n",
       "      <th>min</th>\n",
       "      <td>0.000000</td>\n",
       "    </tr>\n",
       "    <tr>\n",
       "      <th>25%</th>\n",
       "      <td>0.000000</td>\n",
       "    </tr>\n",
       "    <tr>\n",
       "      <th>50%</th>\n",
       "      <td>0.020000</td>\n",
       "    </tr>\n",
       "    <tr>\n",
       "      <th>75%</th>\n",
       "      <td>0.130000</td>\n",
       "    </tr>\n",
       "    <tr>\n",
       "      <th>max</th>\n",
       "      <td>6.700000</td>\n",
       "    </tr>\n",
       "  </tbody>\n",
       "</table>\n",
       "</div>"
      ],
      "text/plain": [
       "              prcp\n",
       "count  2015.000000\n",
       "mean      0.176462\n",
       "std       0.460288\n",
       "min       0.000000\n",
       "25%       0.000000\n",
       "50%       0.020000\n",
       "75%       0.130000\n",
       "max       6.700000"
      ]
     },
     "execution_count": 116,
     "metadata": {},
     "output_type": "execute_result"
    }
   ],
   "source": [
    "# Use Pandas to calcualte the summary statistics for the precipitation data\n",
    "prcp_df.describe()"
   ]
  },
  {
   "cell_type": "code",
   "execution_count": 117,
   "metadata": {},
   "outputs": [
    {
     "data": {
      "text/plain": [
       "[(9)]"
      ]
     },
     "execution_count": 117,
     "metadata": {},
     "output_type": "execute_result"
    }
   ],
   "source": [
    "# Design a query to show how many stations are available in this dataset?\n",
    "station_count=session.query(func.count(stations.station)).all()\n",
    "station_count"
   ]
  },
  {
   "cell_type": "code",
   "execution_count": 118,
   "metadata": {},
   "outputs": [
    {
     "data": {
      "text/plain": [
       "[(2772, 'USC00519281'),\n",
       " (2724, 'USC00519397'),\n",
       " (2709, 'USC00513117'),\n",
       " (2669, 'USC00519523'),\n",
       " (2612, 'USC00516128'),\n",
       " (2202, 'USC00514830'),\n",
       " (1979, 'USC00511918'),\n",
       " (1372, 'USC00517948'),\n",
       " (511, 'USC00518838')]"
      ]
     },
     "execution_count": 118,
     "metadata": {},
     "output_type": "execute_result"
    }
   ],
   "source": [
    "# What are the most active stations? (i.e. what stations have the most rows)?\n",
    "# List the stations and the counts in descending order.\n",
    "\n",
    "# Need to group by the station #, then count how many times measurements appear at each station\n",
    "# and list in desc order \n",
    "\n",
    "active_stations= session.query(func.count(measurements.station), measurements.station).\\\n",
    "    group_by(measurements.station).order_by(desc(func.count(measurements.station))).all()\n",
    "active_stations\n",
    "\n",
    "#active_stations.order_by(desc(func.count(measurements.station)))\n",
    "\n",
    "#.group_by(desc(measurements.station()))\n",
    "#.order_by(func.count(measurements.station.desc()))\n",
    "#group_by(measurements.station).order_by(func.count(measurements.station.desc()).all()\n",
    "#.order_by(desc(func.count(measurements.station)"
   ]
  },
  {
   "cell_type": "code",
   "execution_count": 119,
   "metadata": {},
   "outputs": [
    {
     "data": {
      "text/plain": [
       "[(71.66378066378067, 54.0, 85.0)]"
      ]
     },
     "execution_count": 119,
     "metadata": {},
     "output_type": "execute_result"
    }
   ],
   "source": [
    "# Using the station id from the previous query, calculate the lowest temperature recorded, \n",
    "# highest temperature recorded, and average temperature of the most active station?\n",
    "#USC00519281\n",
    "#most_active=[measurements.station, (measurements.station==\"USC00519281\").filter, func.avg(measurements.tobs)]\n",
    "#station_activity=[(measurements.station==\"USC00519281\").filter, func.avg(measurements.tobs)]\n",
    "#station_activity=session.query(measurements.station, measurements.tobs).filter(measurements.station==\"USC00519281\").all()\n",
    "#station_summary= [measurements.tobs,\n",
    " #                func.avg(station_summary),\n",
    "  #               func.min(station_summary),\n",
    "   #              func.max(station_summary)]\n",
    "select=[func.avg(measurements.tobs), func.min(measurements.tobs), func.max(measurements.tobs)]\n",
    "#station_activity=session.query(measurements.station, measurements.tobs).filter(measurements.station==\"USC00519281\"), func.avg(measurements.tobs)\n",
    "station_activity= session.query(*select).filter(measurements.station==\"USC00519281\").all()\n",
    "station_activity\n",
    "    \n",
    "    #station_summary\n",
    "#most_active= session.query((measurements.station)==\"USC00519281\").filter(func.avg(measurements.tobs)).all()\n",
    "#most_active\n"
   ]
  },
  {
   "cell_type": "code",
   "execution_count": 120,
   "metadata": {},
   "outputs": [
    {
     "data": {
      "text/plain": [
       "Text(0, 0.5, 'frequency')"
      ]
     },
     "execution_count": 120,
     "metadata": {},
     "output_type": "execute_result"
    },
    {
     "data": {
      "image/png": "[encoded data removed]",
      "text/plain": [
       "<Figure size 432x288 with 1 Axes>"
      ]
     },
     "metadata": {},
     "output_type": "display_data"
    }
   ],
   "source": [
    "# Choose the station with the highest number of temperature observations.\n",
    "#temp_observations= [measurements.station, measurements.tobs, func.count(measurements.tobs)]\n",
    "#station_observations= session.query(*temp_observations).all()\n",
    "#station_observations\n",
    "# Query the last 12 months of temperature observation data for this station and plot the results as a histogram\n",
    "temp_data=[measurements.tobs]\n",
    "station_temp=session.query(*temp_data).filter(measurements.station==\"USC00519281\").filter(measurements.date>=query_date).all()\n",
    "station_temp_df=pd.DataFrame(station_temp)\n",
    "station_temp_df.hist(bins=12)\n",
    "plt.xlabel(\"temperature\")\n",
    "plt.ylabel(\"frequency\")\n"
   ]
  },
  {
   "cell_type": "code",
   "execution_count": null,
   "metadata": {},
   "outputs": [],
   "source": []
  },
  {
   "cell_type": "code",
   "execution_count": 127,
   "metadata": {},
   "outputs": [],
   "source": [
    "# temp_data=[measurements.tobs]\n",
    "# station_temp=session.query(*temp_data).filter(measurements.station==\"USC00519281\").filter(measurements.date>=query_date).all()\n",
    "# station_temp"
   ]
  },
  {
   "cell_type": "code",
   "execution_count": 128,
   "metadata": {},
   "outputs": [],
   "source": [
    "# stations= session.query(stations.name).all()\n",
    "# stations"
   ]
  },
  {
   "cell_type": "code",
   "execution_count": 123,
   "metadata": {},
   "outputs": [],
   "source": [
    "# SELECT count(measurements.station) As count_1, measurements.station as station_count\n",
    "#from measurements GROUP BY measurements.station\n",
    "#()\n",
    "\n",
    "#prcp_df[['Date', 'prcp']].describe()\n",
    "   # order_by(desc(func.count(measurements.station))).all()\n",
    "\n",
    "\n",
    "#sel= [measurements.station,\n",
    " #       func.sum(measurements.station)]\n",
    "#sel\n",
    "#active_stations= session.query(*sel).\\\n",
    "  #  group_by(measurements.station).\\\n",
    " #   order_by(measurements.station).all()\n",
    "#active_stations\n",
    " #   func.sum(measurements.station)\n",
    "#active_stations\n",
    "\n",
    "\n",
    "\n",
    "#station_count=(active_stations).sum()\n",
    "#station_count\n",
    "# order_by(measurements.station).all()\n",
    "#active_stations\n",
    "\n",
    "\n",
    "\n",
    "#active_stations= session.query(func.count(measurements.station)).all()\n",
    "#active_stations"
   ]
  },
  {
   "cell_type": "code",
   "execution_count": 124,
   "metadata": {},
   "outputs": [],
   "source": [
    "# plt.xticks(rotation=90)\n",
    "# need function for sorting \n",
    "#result = df.sort(['A', 'B'], ascending=[1, 0])\n",
    "#prcp= session.query(measurements.prcp, measurements.date).\n",
    "\n",
    "#mean_prcp= np.mean(prcp_df)\n",
    "#print(f\"The mean yearly precipitation in Hawaii is {mean_prcp}\")\n",
    "# median_prcp= np.median(prcp_df)\n",
    "#mode_prcp= np.mode\n",
    "#print(median_prcp)"
   ]
  },
  {
   "cell_type": "code",
   "execution_count": 125,
   "metadata": {},
   "outputs": [],
   "source": [
    "# Get a list of column names and types\n",
    "#from sqlalchemy import create_engine, inspect, func\n",
    "#inspector = inspect(engine)\n",
    "#inspector.get_table_names()\n",
    "\n",
    "#columns = inspector.get_columns('stations')\n",
    "#for c in columns:\n",
    " #   print(c['name'], c[\"type\"])\n",
    "#columns\n",
    "\n",
    "#print(f'The total number of stations in the dataset is {station_count}\")\n",
    "#stations=session.query(stations).count\n",
    "\n",
    "\n",
    "\n",
    "#stations= session.query(measurements.date, measurements.prcp).\\\n",
    " #   filter(measurements.date > query_date).\\\n",
    "  #  order_by(measurements.date).all()"
   ]
  },
  {
   "cell_type": "markdown",
   "metadata": {},
   "source": [
    "## Bonus Challenge Assignment"
   ]
  },
  {
   "cell_type": "code",
   "execution_count": 126,
   "metadata": {},
   "outputs": [
    {
     "ename": "NameError",
     "evalue": "name 'Measurement' is not defined",
     "output_type": "error",
     "traceback": [
      "\u001b[1;31m---------------------------------------------------------------------------\u001b[0m",
      "\u001b[1;31mNameError\u001b[0m                                 Traceback (most recent call last)",
      "\u001b[1;32m<ipython-input-126-6e805d34d63b>\u001b[0m in \u001b[0;36m<module>\u001b[1;34m\u001b[0m\n\u001b[0;32m     16\u001b[0m \u001b[1;33m\u001b[0m\u001b[0m\n\u001b[0;32m     17\u001b[0m \u001b[1;31m# function usage example\u001b[0m\u001b[1;33m\u001b[0m\u001b[1;33m\u001b[0m\u001b[1;33m\u001b[0m\u001b[0m\n\u001b[1;32m---> 18\u001b[1;33m \u001b[0mprint\u001b[0m\u001b[1;33m(\u001b[0m\u001b[0mcalc_temps\u001b[0m\u001b[1;33m(\u001b[0m\u001b[1;34m'2012-02-28'\u001b[0m\u001b[1;33m,\u001b[0m \u001b[1;34m'2012-03-05'\u001b[0m\u001b[1;33m)\u001b[0m\u001b[1;33m)\u001b[0m\u001b[1;33m\u001b[0m\u001b[1;33m\u001b[0m\u001b[0m\n\u001b[0m",
      "\u001b[1;32m<ipython-input-126-6e805d34d63b>\u001b[0m in \u001b[0;36mcalc_temps\u001b[1;34m(start, end)\u001b[0m\n\u001b[0;32m     12\u001b[0m     \"\"\"\n\u001b[0;32m     13\u001b[0m \u001b[1;33m\u001b[0m\u001b[0m\n\u001b[1;32m---> 14\u001b[1;33m     \u001b[1;32mreturn\u001b[0m \u001b[0msession\u001b[0m\u001b[1;33m.\u001b[0m\u001b[0mquery\u001b[0m\u001b[1;33m(\u001b[0m\u001b[0mfunc\u001b[0m\u001b[1;33m.\u001b[0m\u001b[0mmin\u001b[0m\u001b[1;33m(\u001b[0m\u001b[0mMeasurement\u001b[0m\u001b[1;33m.\u001b[0m\u001b[0mtobs\u001b[0m\u001b[1;33m)\u001b[0m\u001b[1;33m,\u001b[0m \u001b[0mfunc\u001b[0m\u001b[1;33m.\u001b[0m\u001b[0mavg\u001b[0m\u001b[1;33m(\u001b[0m\u001b[0mMeasurement\u001b[0m\u001b[1;33m.\u001b[0m\u001b[0mtobs\u001b[0m\u001b[1;33m)\u001b[0m\u001b[1;33m,\u001b[0m \u001b[0mfunc\u001b[0m\u001b[1;33m.\u001b[0m\u001b[0mmax\u001b[0m\u001b[1;33m(\u001b[0m\u001b[0mMeasurement\u001b[0m\u001b[1;33m.\u001b[0m\u001b[0mtobs\u001b[0m\u001b[1;33m)\u001b[0m\u001b[1;33m)\u001b[0m\u001b[1;33m.\u001b[0m\u001b[0;31m\\\u001b[0m\u001b[1;33m\u001b[0m\u001b[1;33m\u001b[0m\u001b[0m\n\u001b[0m\u001b[0;32m     15\u001b[0m         \u001b[0mfilter\u001b[0m\u001b[1;33m(\u001b[0m\u001b[0mMeasurement\u001b[0m\u001b[1;33m.\u001b[0m\u001b[0mdate\u001b[0m \u001b[1;33m>=\u001b[0m \u001b[0mstart\u001b[0m\u001b[1;33m)\u001b[0m\u001b[1;33m.\u001b[0m\u001b[0mfilter\u001b[0m\u001b[1;33m(\u001b[0m\u001b[0mMeasurement\u001b[0m\u001b[1;33m.\u001b[0m\u001b[0mdate\u001b[0m \u001b[1;33m<=\u001b[0m \u001b[0mend\u001b[0m\u001b[1;33m)\u001b[0m\u001b[1;33m.\u001b[0m\u001b[0mall\u001b[0m\u001b[1;33m(\u001b[0m\u001b[1;33m)\u001b[0m\u001b[1;33m\u001b[0m\u001b[1;33m\u001b[0m\u001b[0m\n\u001b[0;32m     16\u001b[0m \u001b[1;33m\u001b[0m\u001b[0m\n",
      "\u001b[1;31mNameError\u001b[0m: name 'Measurement' is not defined"
     ]
    }
   ],
   "source": [
    "# This function called `calc_temps` will accept start date and end date in the format '%Y-%m-%d' \n",
    "# and return the minimum, average, and maximum temperatures for that range of dates\n",
    "def calc_temps(start, end):\n",
    "    \"\"\"TMIN, TAVG, and TMAX for a list of dates.\n",
    "    \n",
    "    Args:\n",
    "        start_date (string): A date string in the format %Y-%m-%d\n",
    "        end_date (string): A date string in the format %Y-%m-%d\n",
    "        \n",
    "    Returns:\n",
    "        TMIN, TAVE, and TMAX\n",
    "    \"\"\"\n",
    "    \n",
    "    return session.query(func.min(Measurement.tobs), func.avg(Measurement.tobs), func.max(Measurement.tobs)).\\\n",
    "        filter(Measurement.date >= start).filter(Measurement.date <= end).all()\n",
    "\n",
    "# function usage example\n",
    "print(calc_temps('2012-02-28', '2012-03-05'))"
   ]
  },
  {
   "cell_type": "code",
   "execution_count": null,
   "metadata": {},
   "outputs": [],
   "source": [
    "# Use your previous function `calc_temps` to calculate the tmin, tavg, and tmax \n",
    "# for your trip using the previous year's data for those same dates.\n"
   ]
  },
  {
   "cell_type": "code",
   "execution_count": null,
   "metadata": {},
   "outputs": [],
   "source": [
    "# Plot the results from your previous query as a bar chart. \n",
    "# Use \"Trip Avg Temp\" as your Title\n",
    "# Use the average temperature for the y value\n",
    "# Use the peak-to-peak (tmax-tmin) value as the y error bar (yerr)\n"
   ]
  },
  {
   "cell_type": "code",
   "execution_count": null,
   "metadata": {},
   "outputs": [],
   "source": [
    "# Calculate the total amount of rainfall per weather station for your trip dates using the previous year's matching dates.\n",
    "# Sort this in descending order by precipitation amount and list the station, name, latitude, longitude, and elevation\n",
    "\n"
   ]
  },
  {
   "cell_type": "code",
   "execution_count": null,
   "metadata": {},
   "outputs": [],
   "source": [
    "# Create a query that will calculate the daily normals \n",
    "# (i.e. the averages for tmin, tmax, and tavg for all historic data matching a specific month and day)\n",
    "\n",
    "def daily_normals(date):\n",
    "    \"\"\"Daily Normals.\n",
    "    \n",
    "    Args:\n",
    "        date (str): A date string in the format '%m-%d'\n",
    "        \n",
    "    Returns:\n",
    "        A list of tuples containing the daily normals, tmin, tavg, and tmax\n",
    "    \n",
    "    \"\"\"\n",
    "    \n",
    "    sel = [func.min(Measurement.tobs), func.avg(Measurement.tobs), func.max(Measurement.tobs)]\n",
    "    return session.query(*sel).filter(func.strftime(\"%m-%d\", Measurement.date) == date).all()\n",
    "    \n",
    "daily_normals(\"01-01\")"
   ]
  },
  {
   "cell_type": "code",
   "execution_count": null,
   "metadata": {},
   "outputs": [],
   "source": [
    "# calculate the daily normals for your trip\n",
    "# push each tuple of calculations into a list called `normals`\n",
    "\n",
    "# Set the start and end date of the trip\n",
    "\n",
    "# Use the start and end date to create a range of dates\n",
    "\n",
    "# Stip off the year and save a list of %m-%d strings\n",
    "\n",
    "# Loop through the list of %m-%d strings and calculate the normals for each date\n"
   ]
  },
  {
   "cell_type": "code",
   "execution_count": null,
   "metadata": {},
   "outputs": [],
   "source": [
    "# Load the previous query results into a Pandas DataFrame and add the `trip_dates` range as the `date` index\n"
   ]
  },
  {
   "cell_type": "code",
   "execution_count": null,
   "metadata": {},
   "outputs": [],
   "source": [
    "# Plot the daily normals as an area plot with `stacked=False`\n"
   ]
  }
 ],
 "metadata": {
  "kernel_info": {
   "name": "python3"
  },
  "kernelspec": {
   "display_name": "Python 3",
   "language": "python",
   "name": "python3"
  },
  "language_info": {
   "codemirror_mode": {
    "name": "ipython",
    "version": 3
   },
   "file_extension": ".py",
   "mimetype": "text/x-python",
   "name": "python",
   "nbconvert_exporter": "python",
   "pygments_lexer": "ipython3",
   "version": "3.8.5"
  },
  "nteract": {
   "version": "0.12.3"
  },
  "varInspector": {
   "cols": {
    "lenName": 16,
    "lenType": 16,
    "lenVar": 40
   },
   "kernels_config": {
    "python": {
     "delete_cmd_postfix": "",
     "delete_cmd_prefix": "del ",
     "library": "var_list.py",
     "varRefreshCmd": "print(var_dic_list())"
    },
    "r": {
     "delete_cmd_postfix": ") ",
     "delete_cmd_prefix": "rm(",
     "library": "var_list.r",
     "varRefreshCmd": "cat(var_dic_list()) "
    }
   },
   "types_to_exclude": [
    "module",
    "function",
    "builtin_function_or_method",
    "instance",
    "_Feature"
   ],
   "window_display": false
  }
 },
 "nbformat": 4,
 "nbformat_minor": 2
}
